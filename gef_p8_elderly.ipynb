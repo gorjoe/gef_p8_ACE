{
 "cells": [
  {
   "cell_type": "markdown",
   "id": "6a0477fe",
   "metadata": {},
   "source": [
    "# GEF Group 8 Elderly Project"
   ]
  },
  {
   "cell_type": "markdown",
   "id": "a52bf06b",
   "metadata": {},
   "source": [
    "## Random math Question"
   ]
  },
  {
   "cell_type": "code",
   "execution_count": 1,
   "id": "1e014a9f",
   "metadata": {},
   "outputs": [],
   "source": [
    "import re\n",
    "import random\n",
    "def replacenum(text, nlen):\n",
    "    numamount = len(re.findall(r'\\d+', text))\n",
    "    #print(\"num: \" + str(numamount))\n",
    "\n",
    "    nums = re.sub(r'\\d+', \"%num%\", text)\n",
    "    #print(num0)\n",
    "\n",
    "    final = nums\n",
    "    for i in range(numamount):\n",
    "        ran = random.randint(0,10**nlen-1)\n",
    "        final = final.replace('%num%', str(ran), 1)\n",
    "        #print(\"times:\" + str(i))\n",
    "        #print(final)\n",
    "    return(final)\n",
    "\n",
    "def calnum(text):\n",
    "    formula = re.sub('=', \"\", text)\n",
    "    return eval(formula)\n",
    "    "
   ]
  },
  {
   "cell_type": "code",
   "execution_count": 2,
   "id": "b1acd6fe",
   "metadata": {},
   "outputs": [
    {
     "name": "stdout",
     "output_type": "stream",
     "text": [
      "7^3\n"
     ]
    }
   ],
   "source": [
    "nnum = replacenum(\"2^2\", 1)\n",
    "print(nnum)"
   ]
  },
  {
   "cell_type": "code",
   "execution_count": 3,
   "id": "d1bc55c4",
   "metadata": {
    "scrolled": true
   },
   "outputs": [
    {
     "data": {
      "text/plain": [
       "4"
      ]
     },
     "execution_count": 3,
     "metadata": {},
     "output_type": "execute_result"
    }
   ],
   "source": [
    "calnum(nnum)"
   ]
  },
  {
   "cell_type": "markdown",
   "id": "dbdfe2e7",
   "metadata": {},
   "source": [
    "## Load _base_ Overlay"
   ]
  },
  {
   "cell_type": "markdown",
   "id": "7983dfeb",
   "metadata": {},
   "source": [
    "<div class=\"alert alert-box alert-info\">\n",
    "Note that we load the base bitstream only once to use Grove module with PYNQ Grove Adapter and SEEED Grove Base Shield V2.0<br>\n",
    "Please make sure you run the following cell before running either of the interfaces \n",
    "</div>"
   ]
  },
  {
   "cell_type": "code",
   "execution_count": 4,
   "id": "e1e496e4",
   "metadata": {},
   "outputs": [],
   "source": [
    "from pynq.overlays.base import BaseOverlay\n",
    "from pynq_peripherals import ArduinoSEEEDGroveAdapter\n",
    "base = BaseOverlay('base.bit')\n",
    "from time import sleep"
   ]
  },
  {
   "cell_type": "markdown",
   "id": "d822f632",
   "metadata": {},
   "source": [
    "\n",
    "---\n",
    "## Light System"
   ]
  },
  {
   "cell_type": "code",
   "execution_count": 2,
   "id": "40f875df",
   "metadata": {},
   "outputs": [],
   "source": [
    "def lighton():\n",
    "    adapter = ArduinoSEEEDGroveAdapter(base.ARDUINO, D7='grove_led_stick')\n",
    "    led_stick = adapter.D7\n",
    "    led_stick.clear()\n",
    "    hexcolor = 0xFFFFFF\n",
    "\n",
    "    for i in range(10):\n",
    "        led_stick.set_pixel(i, hexcolor)\n",
    "        led_stick.show()\n",
    "\n",
    "def lightoff():\n",
    "    adapter = ArduinoSEEEDGroveAdapter(base.ARDUINO, D7='grove_led_stick')\n",
    "    led_stick = adapter.D7\n",
    "    led_stick.clear()"
   ]
  },
  {
   "cell_type": "code",
   "execution_count": 3,
   "id": "6a9b87cd",
   "metadata": {},
   "outputs": [],
   "source": [
    "lighton()"
   ]
  },
  {
   "cell_type": "code",
   "execution_count": 4,
   "id": "468cb646",
   "metadata": {},
   "outputs": [],
   "source": [
    "lightoff()"
   ]
  },
  {
   "cell_type": "markdown",
   "id": "59026705",
   "metadata": {},
   "source": [
    "# Door System"
   ]
  },
  {
   "cell_type": "markdown",
   "id": "3dbe7f81",
   "metadata": {},
   "source": [
    "<div class=\"alert alert-box alert-warning\"><ul>\n",
    "    <h4 class=\"alert-heading\">Make Physical Connections </h4>\n",
    "    <li>Insert the Grove Base Shield into the Arduino connector on the board. Connect the Grove Servo to D6 connector of the Grove Base Shield.</li>\n",
    "</ul>\n",
    "</div>"
   ]
  },
  {
   "cell_type": "code",
   "execution_count": 25,
   "id": "5ee7bbfb",
   "metadata": {},
   "outputs": [],
   "source": [
    "def doorOpen():\n",
    "    adapter = ArduinoSEEEDGroveAdapter(base.ARDUINO, D5='grove_servo')\n",
    "    servo = adapter.D5\n",
    "    servo.set_angular_position(90)\n",
    "\n",
    "def doorClose():\n",
    "    adapter = ArduinoSEEEDGroveAdapter(base.ARDUINO, D5='grove_servo')\n",
    "    servo = adapter.D5\n",
    "    servo.set_angular_position(0)"
   ]
  },
  {
   "cell_type": "code",
   "execution_count": 26,
   "id": "83f12b6c",
   "metadata": {},
   "outputs": [],
   "source": [
    "doorOpen()"
   ]
  },
  {
   "cell_type": "code",
   "execution_count": 27,
   "id": "7f269709",
   "metadata": {},
   "outputs": [],
   "source": [
    "doorClose()"
   ]
  },
  {
   "cell_type": "markdown",
   "id": "e8424885",
   "metadata": {},
   "source": [
    "### Motion sensor (Not Done Yet)"
   ]
  },
  {
   "cell_type": "code",
   "execution_count": null,
   "id": "ef690e78",
   "metadata": {},
   "outputs": [
    {
     "name": "stdout",
     "output_type": "stream",
     "text": [
      "start\n"
     ]
    }
   ],
   "source": [
    "adapter = ArduinoSEEEDGroveAdapter(base.ARDUINO, D6='grove_pir')\n",
    "motionsensor = adapter.D6\n",
    "\n",
    "adapter = ArduinoSEEEDGroveAdapter(base.ARDUINO, D5='grove_servo')\n",
    "servo = adapter.D5\n",
    "\n",
    "print(\"start\")\n",
    "\n",
    "for i in range(20):\n",
    "    if motionsensor.motion_detected():\n",
    "        servo.set_angular_position(90)\n",
    "        print(\"door open\")\n",
    "    else:\n",
    "        servo.set_angular_position(0)\n",
    "        print(\"door close\")\n",
    "    sleep(1)"
   ]
  },
  {
   "cell_type": "code",
   "execution_count": null,
   "id": "ab0ca5c5",
   "metadata": {},
   "outputs": [],
   "source": []
  },
  {
   "cell_type": "markdown",
   "id": "4e6ab38e",
   "metadata": {},
   "source": [
    "## Temperature/Fan"
   ]
  },
  {
   "cell_type": "markdown",
   "id": "d2ea68d9",
   "metadata": {},
   "source": [
    "<div class=\"alert alert-box alert-warning\"><ul>\n",
    "    <h4 class=\"alert-heading\">Make Physical Connections </h4>\n",
    "    <li>Insert the Grove Base Shield into the Arduino connector on the board. Connect the Grove Temperature sensor module to A1 connector of the SEEED Grove Base Shield.</li>\n",
    "</ul>\n",
    "</div>"
   ]
  },
  {
   "cell_type": "code",
   "execution_count": 28,
   "id": "63ae1972",
   "metadata": {},
   "outputs": [],
   "source": [
    "from time import sleep\n",
    "def temp():\n",
    "    adapter = ArduinoSEEEDGroveAdapter(base.ARDUINO, A1='grove_temperature')\n",
    "    temp_sensor = adapter.A1\n",
    "    for i in range(10):\n",
    "        temperature = temp_sensor.get_temperature()\n",
    "        print('Temperature: {:.2f} degree Celsius'.format(temperature))\n",
    "        sleep(1)"
   ]
  },
  {
   "cell_type": "code",
   "execution_count": null,
   "id": "abd07b52",
   "metadata": {},
   "outputs": [],
   "source": []
  }
 ],
 "metadata": {
  "kernelspec": {
   "display_name": "Python 3",
   "language": "python",
   "name": "python3"
  },
  "language_info": {
   "codemirror_mode": {
    "name": "ipython",
    "version": 3
   },
   "file_extension": ".py",
   "mimetype": "text/x-python",
   "name": "python",
   "nbconvert_exporter": "python",
   "pygments_lexer": "ipython3",
   "version": "3.8.2"
  }
 },
 "nbformat": 4,
 "nbformat_minor": 5
}
