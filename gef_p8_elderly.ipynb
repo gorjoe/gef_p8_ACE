{
 "cells": [
  {
   "cell_type": "markdown",
   "id": "94e2d7de",
   "metadata": {},
   "source": [
    "# GEF Group 8 Elderly Project"
   ]
  },
  {
   "cell_type": "markdown",
   "id": "ce27ceef",
   "metadata": {},
   "source": [
    "## Random math Question"
   ]
  },
  {
   "cell_type": "code",
   "execution_count": 1,
   "id": "cbf89787",
   "metadata": {},
   "outputs": [],
   "source": [
    "import re\n",
    "import random\n",
    "def replacenum(text, nlen):\n",
    "    numamount = len(re.findall(r'\\d+', text))\n",
    "    #print(\"num: \" + str(numamount))\n",
    "\n",
    "    nums = re.sub(r'\\d+', \"%num%\", text)\n",
    "    #print(num0)\n",
    "\n",
    "    final = nums\n",
    "    for i in range(numamount):\n",
    "        ran = random.randint(0,10**nlen-1)\n",
    "        final = final.replace('%num%', str(ran), 1)\n",
    "        #print(\"times:\" + str(i))\n",
    "        #print(final)\n",
    "    return(final)\n",
    "\n",
    "def calnum(text):\n",
    "    formula = re.sub('=', \"\", text)\n",
    "    return eval(formula)\n",
    "    "
   ]
  },
  {
   "cell_type": "code",
   "execution_count": 2,
   "id": "64023a28",
   "metadata": {},
   "outputs": [
    {
     "name": "stdout",
     "output_type": "stream",
     "text": [
      "1^6\n"
     ]
    }
   ],
   "source": [
    "nnum = replacenum(\"2^2\", 1)\n",
    "print(nnum)"
   ]
  },
  {
   "cell_type": "code",
   "execution_count": 3,
   "id": "8a0ae3bc",
   "metadata": {
    "scrolled": true
   },
   "outputs": [
    {
     "data": {
      "text/plain": [
       "7"
      ]
     },
     "execution_count": 3,
     "metadata": {},
     "output_type": "execute_result"
    }
   ],
   "source": [
    "calnum(nnum)"
   ]
  },
  {
   "cell_type": "markdown",
   "id": "de17b743",
   "metadata": {},
   "source": [
    "## Load _base_ Overlay"
   ]
  },
  {
   "cell_type": "markdown",
   "id": "15c7ef57",
   "metadata": {},
   "source": [
    "<div class=\"alert alert-box alert-info\">\n",
    "Note that we load the base bitstream only once to use Grove module with PYNQ Grove Adapter and SEEED Grove Base Shield V2.0<br>\n",
    "Please make sure you run the following cell before running either of the interfaces \n",
    "</div>"
   ]
  },
  {
   "cell_type": "code",
   "execution_count": 4,
   "id": "15a1749b",
   "metadata": {},
   "outputs": [
    {
     "ename": "ModuleNotFoundError",
     "evalue": "No module named 'pynq'",
     "output_type": "error",
     "traceback": [
      "\u001b[1;31m---------------------------------------------------------------------------\u001b[0m",
      "\u001b[1;31mModuleNotFoundError\u001b[0m                       Traceback (most recent call last)",
      "\u001b[1;32m<ipython-input-4-64202f620268>\u001b[0m in \u001b[0;36m<module>\u001b[1;34m\u001b[0m\n\u001b[1;32m----> 1\u001b[1;33m \u001b[1;32mfrom\u001b[0m \u001b[0mpynq\u001b[0m\u001b[1;33m.\u001b[0m\u001b[0moverlays\u001b[0m\u001b[1;33m.\u001b[0m\u001b[0mbase\u001b[0m \u001b[1;32mimport\u001b[0m \u001b[0mBaseOverlay\u001b[0m\u001b[1;33m\u001b[0m\u001b[1;33m\u001b[0m\u001b[0m\n\u001b[0m\u001b[0;32m      2\u001b[0m \u001b[1;32mfrom\u001b[0m \u001b[0mpynq_peripherals\u001b[0m \u001b[1;32mimport\u001b[0m \u001b[0mArduinoSEEEDGroveAdapter\u001b[0m\u001b[1;33m\u001b[0m\u001b[1;33m\u001b[0m\u001b[0m\n\u001b[0;32m      3\u001b[0m \u001b[0mbase\u001b[0m \u001b[1;33m=\u001b[0m \u001b[0mBaseOverlay\u001b[0m\u001b[1;33m(\u001b[0m\u001b[1;34m'base.bit'\u001b[0m\u001b[1;33m)\u001b[0m\u001b[1;33m\u001b[0m\u001b[1;33m\u001b[0m\u001b[0m\n",
      "\u001b[1;31mModuleNotFoundError\u001b[0m: No module named 'pynq'"
     ]
    }
   ],
   "source": [
    "from pynq.overlays.base import BaseOverlay\n",
    "from pynq_peripherals import ArduinoSEEEDGroveAdapter\n",
    "base = BaseOverlay('base.bit')"
   ]
  },
  {
   "cell_type": "markdown",
   "id": "03f75fa8",
   "metadata": {},
   "source": [
    "---\n",
    "## Light System"
   ]
  },
  {
   "cell_type": "code",
   "execution_count": 8,
   "id": "d84fb2d8",
   "metadata": {},
   "outputs": [],
   "source": [
    "def lighton():\n",
    "    adapter = ArduinoSEEEDGroveAdapter(base.ARDUINO, D7='grove_led_stick')\n",
    "    led_stick = adapter.D7\n",
    "    led_stick.clear()\n",
    "    hexcolor = 0xFFFFFF\n",
    "\n",
    "    for i in range(10):\n",
    "        led_stick.set_pixel(i, hexcolor)\n",
    "        led_stick.show()\n",
    "\n",
    "def lightoff():\n",
    "    adapter = ArduinoSEEEDGroveAdapter(base.ARDUINO, D7='grove_led_stick')\n",
    "    led_stick = adapter.D7\n",
    "    led_stick.clear()"
   ]
  },
  {
   "cell_type": "code",
   "execution_count": 20,
   "id": "6b303af5",
   "metadata": {},
   "outputs": [],
   "source": [
    "lighton()"
   ]
  },
  {
   "cell_type": "code",
   "execution_count": 11,
   "id": "7a945aa9",
   "metadata": {},
   "outputs": [],
   "source": [
    "lightoff()"
   ]
  },
  {
   "cell_type": "markdown",
   "id": "dcde7c05",
   "metadata": {},
   "source": [
    "# Door System"
   ]
  },
  {
   "cell_type": "markdown",
   "id": "06140422",
   "metadata": {},
   "source": [
    "<div class=\"alert alert-box alert-warning\"><ul>\n",
    "    <h4 class=\"alert-heading\">Make Physical Connections </h4>\n",
    "    <li>Insert the Grove Base Shield into the Arduino connector on the board. Connect the Grove Servo to D6 connector of the Grove Base Shield.</li>\n",
    "</ul>\n",
    "</div>"
   ]
  },
  {
   "cell_type": "code",
   "execution_count": 12,
   "id": "eb680d1f",
   "metadata": {},
   "outputs": [],
   "source": [
    "def doorOpen():\n",
    "    adapter = ArduinoSEEEDGroveAdapter(base.ARDUINO, D6='grove_servo')\n",
    "    servo = adapter.D6\n",
    "    servo.set_angular_position(90)\n",
    "\n",
    "def doorClose():\n",
    "    adapter = ArduinoSEEEDGroveAdapter(base.ARDUINO, D6='grove_servo')\n",
    "    servo = adapter.D6\n",
    "    servo.set_angular_position(0)"
   ]
  },
  {
   "cell_type": "code",
   "execution_count": 17,
   "id": "dba4bca9",
   "metadata": {},
   "outputs": [],
   "source": [
    "doorOpen()"
   ]
  },
  {
   "cell_type": "code",
   "execution_count": 18,
   "id": "ec22791e",
   "metadata": {},
   "outputs": [],
   "source": [
    "doorClose()"
   ]
  },
  {
   "cell_type": "markdown",
   "id": "c6fc7025",
   "metadata": {},
   "source": [
    "### Motion sensor (Not Done Yet)"
   ]
  },
  {
   "cell_type": "code",
   "execution_count": 26,
   "id": "725f87f8",
   "metadata": {},
   "outputs": [],
   "source": [
    "from time import sleep\n",
    "def sensor():\n",
    "    for i in range(20):\n",
    "        adapter = ArduinoSEEEDGroveAdapter(base.ARDUINO, D6='grove_motion_sensor')\n",
    "        motionsensor = adapter.D6\n",
    "        print(motionsensor.digitalRead(6))\n",
    "        sleep(0.1)"
   ]
  },
  {
   "cell_type": "code",
   "execution_count": null,
   "id": "8be104a9",
   "metadata": {},
   "outputs": [],
   "source": []
  },
  {
   "cell_type": "code",
   "execution_count": null,
   "id": "67a98f2e",
   "metadata": {},
   "outputs": [],
   "source": []
  },
  {
   "cell_type": "markdown",
   "id": "0d366b04",
   "metadata": {},
   "source": [
    "## Temperature/Fan"
   ]
  },
  {
   "cell_type": "markdown",
   "id": "a08a336f",
   "metadata": {},
   "source": [
    "<div class=\"alert alert-box alert-warning\"><ul>\n",
    "    <h4 class=\"alert-heading\">Make Physical Connections </h4>\n",
    "    <li>Insert the Grove Base Shield into the Arduino connector on the board. Connect the Grove Temperature sensor module to A1 connector of the SEEED Grove Base Shield.</li>\n",
    "</ul>\n",
    "</div>"
   ]
  },
  {
   "cell_type": "code",
   "execution_count": 28,
   "id": "77e6397b",
   "metadata": {},
   "outputs": [],
   "source": [
    "from time import sleep\n",
    "def temp():\n",
    "    adapter = ArduinoSEEEDGroveAdapter(base.ARDUINO, A1='grove_temperature')\n",
    "    temp_sensor = adapter.A1\n",
    "    for i in range(10):\n",
    "        temperature = temp_sensor.get_temperature()\n",
    "        print('Temperature: {:.2f} degree Celsius'.format(temperature))\n",
    "        sleep(1)"
   ]
  },
  {
   "cell_type": "code",
   "execution_count": null,
   "id": "48127123",
   "metadata": {},
   "outputs": [],
   "source": []
  },
  {
   "cell_type": "markdown",
   "id": "0b33c3d0",
   "metadata": {},
   "source": [
    "## Bedwetting"
   ]
  },
  {
   "cell_type": "code",
   "execution_count": null,
   "id": "42241991",
   "metadata": {},
   "outputs": [],
   "source": [
    "adapter = ArduinoSEEEDGroveAdapter(base.ARDUINO, D4='grove_water_sensor')\n",
    "water_sensor = adapter.D4\n",
    "if water_sensor.is_dry():\n",
    "    print('dry')\n",
    "else:\n",
    "    print('wet')"
   ]
  },
  {
   "cell_type": "code",
   "execution_count": null,
   "id": "765e3117",
   "metadata": {},
   "outputs": [],
   "source": []
  },
  {
   "cell_type": "markdown",
   "id": "090a09c9",
   "metadata": {},
   "source": [
    "## Temp"
   ]
  },
  {
   "cell_type": "code",
   "execution_count": null,
   "id": "b3fc9fc1",
   "metadata": {},
   "outputs": [],
   "source": [
    "adapter = ArduinoSEEEDGroveAdapter(base.ARDUINO, A1='grove_temperature')\n",
    "temp_sensor = adapter.A1\n",
    "\n",
    "adapter = ArduinoSEEEDGroveAdapter(base.ARDUINO, D3='grove_relay')\n",
    "relay = adapter.D3\n",
    "\n",
    "if temp_sensor.get_temperature() > 33:\n",
    "    relay.on()\n",
    "else:\n",
    "    relay.off()"
   ]
  }
 ],
 "metadata": {
  "kernelspec": {
   "display_name": "Python 3",
   "language": "python",
   "name": "python3"
  },
  "language_info": {
   "codemirror_mode": {
    "name": "ipython",
    "version": 3
   },
   "file_extension": ".py",
   "mimetype": "text/x-python",
   "name": "python",
   "nbconvert_exporter": "python",
   "pygments_lexer": "ipython3",
   "version": "3.8.8"
  }
 },
 "nbformat": 4,
 "nbformat_minor": 5
}
